{
 "cells": [
  {
   "cell_type": "code",
   "execution_count": 1,
   "id": "81f37c0c",
   "metadata": {},
   "outputs": [],
   "source": [
    "import cv2\n",
    "import numpy as np\n",
    "import os"
   ]
  },
  {
   "cell_type": "code",
   "execution_count": 8,
   "id": "4314c8d6",
   "metadata": {},
   "outputs": [
    {
     "data": {
      "text/plain": [
       "True"
      ]
     },
     "execution_count": 8,
     "metadata": {},
     "output_type": "execute_result"
    }
   ],
   "source": [
    "image_names = os.listdir('../output-images')\n",
    "pieces = []\n",
    "for image_name in image_names:\n",
    "    img = cv2.imread(f'../output-images/{image_name}')\n",
    "    img = cv2.resize(img, (500, 500), cv2.INTER_LINEAR)\n",
    "    pieces.append(img)\n",
    "final_img = np.hstack(pieces)\n",
    "cv2.imwrite('../readme-assets/cover-photo.jpg', final_img)"
   ]
  },
  {
   "cell_type": "code",
   "execution_count": null,
   "id": "b1d5a265",
   "metadata": {},
   "outputs": [],
   "source": []
  }
 ],
 "metadata": {
  "kernelspec": {
   "display_name": "Dash-Dab-Tlt",
   "language": "python",
   "name": "dash-dab-tlt"
  },
  "language_info": {
   "codemirror_mode": {
    "name": "ipython",
    "version": 3
   },
   "file_extension": ".py",
   "mimetype": "text/x-python",
   "name": "python",
   "nbconvert_exporter": "python",
   "pygments_lexer": "ipython3",
   "version": "3.8.5"
  }
 },
 "nbformat": 4,
 "nbformat_minor": 5
}