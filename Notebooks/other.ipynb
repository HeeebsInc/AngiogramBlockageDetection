{
 "cells": [
  {
   "cell_type": "code",
   "execution_count": 2,
   "id": "85bdf170",
   "metadata": {},
   "outputs": [],
   "source": [
    "import cv2\n",
    "import numpy as np\n",
    "import os"
   ]
  },
  {
   "cell_type": "code",
   "execution_count": 5,
   "id": "5d6ea6aa",
   "metadata": {},
   "outputs": [
    {
     "data": {
      "text/plain": [
       "True"
      ]
     },
     "execution_count": 5,
     "metadata": {},
     "output_type": "execute_result"
    }
   ],
   "source": [
    "image_names = os.listdir('../output-images')\n",
    "pieces = []\n",
    "for image_name in image_names:\n",
    "    img = cv2.imread(f'../output-images/{image_name}')\n",
    "    img = cv2.resize(img, (250, 250), cv2.INTER_LINEAR)\n",
    "    pieces.append(img)\n",
    "final_img = np.hstack(pieces)\n",
    "cv2.imwrite('../readme-assets/cover-photo.jpg', final_img)"
   ]
  },
  {
   "cell_type": "code",
   "execution_count": null,
   "id": "16dad342",
   "metadata": {},
   "outputs": [],
   "source": []
  }
 ],
 "metadata": {
  "kernelspec": {
   "display_name": "Dash-Dab-Tlt",
   "language": "python",
   "name": "dash-dab-tlt"
  },
  "language_info": {
   "codemirror_mode": {
    "name": "ipython",
    "version": 3
   },
   "file_extension": ".py",
   "mimetype": "text/x-python",
   "name": "python",
   "nbconvert_exporter": "python",
   "pygments_lexer": "ipython3",
   "version": "3.8.5"
  }
 },
 "nbformat": 4,
 "nbformat_minor": 5
}
