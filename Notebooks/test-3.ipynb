{
 "cells": [
  {
   "cell_type": "code",
   "execution_count": 1,
   "metadata": {
    "pycharm": {
     "is_executing": true
    }
   },
   "outputs": [],
   "source": [
    "import pandas as pd\n",
    "import numpy as np\n",
    "import cv2\n",
    "import os\n",
    "import matplotlib.pyplot as plt\n",
    "from sklearn.utils import shuffle\n",
    "from img_utils import automatic_brightness_and_contrast, find_if_close\n"
   ]
  },
  {
   "cell_type": "markdown",
   "metadata": {},
   "source": [
    "In this project, you are to apply image segmentation techniques to X-ray angiography, where X-ray images are taken when an X-ray absorbing substance is injected into the patient's blood stream to produce contrast. The resulting X-ray images have dark regions representing the blood flow within vessels. Your system should be able to automatically locate any occlusion and follow the surrounding vessel wall to compute the ratio between the minimum and nominal vessel diameters. Such results are practically important in detecting coronary disease. Your system should also accept user input of occlusion locations and perform the same percent occlusion measurement in that particular area."
   ]
  },
  {
   "cell_type": "code",
   "execution_count": null,
   "metadata": {},
   "outputs": [],
   "source": [
    "%matplotlib tk\n",
    "fig, ax = plt.subplots(4, 6, figsize = (20,10))\n",
    "\n",
    "for idx, image_name in enumerate(image_names):\n",
    "    img_dict = {}\n",
    "    full_path = f'{images_dir}/{image_name}' \n",
    "    img = cv2.imread(full_path)\n",
    "    x_new = int(img.shape[1] * .1)\n",
    "    y_new = int(img.shape[0] * .1)\n",
    "    img = img[y_new:img.shape[0] - y_new, x_new: img.shape[1] - x_new]\n",
    "    gray = cv2.cvtColor(img, cv2.COLOR_BGR2GRAY)\n",
    "    gray = automatic_brightness_and_contrast(gray)\n",
    "    \n",
    "    blurred = cv2.medianBlur(gray, 5)\n",
    "    img_dict['blurred'] = blurred\n",
    "    img_dict['brightness corrected'] = gray\n",
    "    \n",
    "    block_size = int(img.shape[0] / 12 )\n",
    "    block_size = block_size + 1 if block_size % 2 == 0 else block_size\n",
    "    block_size = block_size + 1 if block_size % 2 == 0 else block_size\n",
    "    \n",
    "    edged_adap = cv2.adaptiveThreshold(blurred, 255, cv2.ADAPTIVE_THRESH_MEAN_C, cv2.THRESH_BINARY_INV, block_size, 10)\n",
    "\n",
    "    min_contour_area = 1250\n",
    "    \n",
    "    thresh = cv2.morphologyEx(edged_adap, cv2.MORPH_ELLIPSE, np.ones((3,3), np.uint8))\n",
    "    contours = cv2.findContours(thresh, cv2.RETR_EXTERNAL, cv2.CHAIN_APPROX_SIMPLE)[0]\n",
    "    contours = [i for i in contours if cv2.contourArea(i) > min_contour_area]\n",
    "    edged_contour = img.copy()\n",
    "    new_contours = []\n",
    "    detections = 0\n",
    "    for idx1, c1 in enumerate(contours):\n",
    "        cv2.drawContours(edged_contour, [c1], -1, (0,0,0), -1)\n",
    "        if idx1 == len(contours) - 1:\n",
    "            break\n",
    "    edged_contour = cv2.cvtColor(edged_contour, cv2.COLOR_BGR2GRAY)\n",
    "    threshed = cv2.threshold(edged_contour, 0, 255, cv2.THRESH_BINARY_INV)[1]\n",
    "    dilated = cv2.dilate(threshed, None, iterations = 2)\n",
    "    img_dict['edged contour'] = edged_contour\n",
    "    img_dict['threshed edged contour'] = threshed\n",
    "    img_dict['dilated'] = dilated\n",
    "    \n",
    "    output_image = img.copy()\n",
    "    thresh = cv2.morphologyEx(dilated, cv2.MORPH_ELLIPSE, np.ones((3,3), np.uint8))\n",
    "    contours = cv2.findContours(thresh, cv2.RETR_EXTERNAL, cv2.CHAIN_APPROX_SIMPLE)[0]\n",
    "    contours = [i for i in contours if cv2.contourArea(i) > min_contour_area]\n",
    "    detections = 0\n",
    "    for idx1, c1 in enumerate(contours):\n",
    "        if idx1 == len(contours) - 1:\n",
    "            break\n",
    "        for idx2, c2 in enumerate(contours):\n",
    "            if idx2 == idx1:\n",
    "                continue\n",
    "            point = find_if_close(c1, c2, 10)\n",
    "            if point:\n",
    "                detections += 1\n",
    "                center = tuple(contours[idx1][point].squeeze())\n",
    "                cv2.circle(output_image, center, 25, (0,0,255), 2)\n",
    "                \n",
    "    message = f'Possible Disease' if detections > 0 else 'Nothing Detected'\n",
    "    color = (0,0,255) if detections > 0 else (0,255,0)\n",
    "    output_image2 = cv2.putText(output_image, message, (10, 50), cv2.FONT_HERSHEY_SIMPLEX, 1, color, 2, cv2.LINE_AA)\n",
    "    img_dict['output image2'] = cv2.cvtColor(output_image, cv2.COLOR_BGR2RGB)\n",
    "                \n",
    "    for idx2, (name, im) in enumerate(img_dict.items()):\n",
    "        if len(im.shape) == 2:\n",
    "            ax[idx, idx2].imshow(im, cmap = 'gray')\n",
    "            ax[idx, idx2].set_title(name)\n",
    "            continue\n",
    "        ax[idx, idx2].imshow(im)\n",
    "        ax[idx, idx2].set_title(name)\n",
    "\n",
    "# plt.show()\n",
    "\n",
    "    \n",
    "\n",
    "    "
   ]
  }
 ],
 "metadata": {
  "kernelspec": {
   "display_name": "Dash-Dab-Tlt",
   "language": "python",
   "name": "dash-dab-tlt"
  },
  "language_info": {
   "codemirror_mode": {
    "name": "ipython",
    "version": 3
   },
   "file_extension": ".py",
   "mimetype": "text/x-python",
   "name": "python",
   "nbconvert_exporter": "python",
   "pygments_lexer": "ipython3",
   "version": "3.8.5"
  }
 },
 "nbformat": 4,
 "nbformat_minor": 1
}
